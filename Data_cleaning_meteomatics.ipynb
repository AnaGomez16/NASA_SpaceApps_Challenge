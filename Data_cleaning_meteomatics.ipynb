{
 "cells": [
  {
   "cell_type": "code",
   "execution_count": 25,
   "metadata": {},
   "outputs": [],
   "source": [
    "# import libraries\n",
    "import pandas as pd\n",
    "import numpy as np"
   ]
  },
  {
   "cell_type": "code",
   "execution_count": 26,
   "metadata": {},
   "outputs": [
    {
     "data": {
      "text/html": [
       "<div>\n",
       "<style scoped>\n",
       "    .dataframe tbody tr th:only-of-type {\n",
       "        vertical-align: middle;\n",
       "    }\n",
       "\n",
       "    .dataframe tbody tr th {\n",
       "        vertical-align: top;\n",
       "    }\n",
       "\n",
       "    .dataframe thead th {\n",
       "        text-align: right;\n",
       "    }\n",
       "</style>\n",
       "<table border=\"1\" class=\"dataframe\">\n",
       "  <thead>\n",
       "    <tr style=\"text-align: right;\">\n",
       "      <th></th>\n",
       "      <th>t_2m:C</th>\n",
       "      <th>precip_1h:mm</th>\n",
       "      <th>wind_speed_10m:ms</th>\n",
       "      <th>Fecha_Hora</th>\n",
       "      <th>Latitud</th>\n",
       "      <th>Longitud</th>\n",
       "    </tr>\n",
       "  </thead>\n",
       "  <tbody>\n",
       "    <tr>\n",
       "      <th>0</th>\n",
       "      <td>8.5</td>\n",
       "      <td>0.0</td>\n",
       "      <td>2.3</td>\n",
       "      <td>2020-01-01 00:00:00</td>\n",
       "      <td>37.38863</td>\n",
       "      <td>-5.99534</td>\n",
       "    </tr>\n",
       "    <tr>\n",
       "      <th>1</th>\n",
       "      <td>7.8</td>\n",
       "      <td>0.0</td>\n",
       "      <td>2.1</td>\n",
       "      <td>2020-01-01 01:00:00</td>\n",
       "      <td>37.38863</td>\n",
       "      <td>-5.99534</td>\n",
       "    </tr>\n",
       "    <tr>\n",
       "      <th>2</th>\n",
       "      <td>7.6</td>\n",
       "      <td>0.0</td>\n",
       "      <td>2.2</td>\n",
       "      <td>2020-01-01 02:00:00</td>\n",
       "      <td>37.38863</td>\n",
       "      <td>-5.99534</td>\n",
       "    </tr>\n",
       "    <tr>\n",
       "      <th>3</th>\n",
       "      <td>7.4</td>\n",
       "      <td>0.0</td>\n",
       "      <td>2.3</td>\n",
       "      <td>2020-01-01 03:00:00</td>\n",
       "      <td>37.38863</td>\n",
       "      <td>-5.99534</td>\n",
       "    </tr>\n",
       "    <tr>\n",
       "      <th>4</th>\n",
       "      <td>7.2</td>\n",
       "      <td>0.0</td>\n",
       "      <td>2.3</td>\n",
       "      <td>2020-01-01 04:00:00</td>\n",
       "      <td>37.38863</td>\n",
       "      <td>-5.99534</td>\n",
       "    </tr>\n",
       "  </tbody>\n",
       "</table>\n",
       "</div>"
      ],
      "text/plain": [
       "   t_2m:C  precip_1h:mm  wind_speed_10m:ms           Fecha_Hora   Latitud  \\\n",
       "0     8.5           0.0                2.3  2020-01-01 00:00:00  37.38863   \n",
       "1     7.8           0.0                2.1  2020-01-01 01:00:00  37.38863   \n",
       "2     7.6           0.0                2.2  2020-01-01 02:00:00  37.38863   \n",
       "3     7.4           0.0                2.3  2020-01-01 03:00:00  37.38863   \n",
       "4     7.2           0.0                2.3  2020-01-01 04:00:00  37.38863   \n",
       "\n",
       "   Longitud  \n",
       "0  -5.99534  \n",
       "1  -5.99534  \n",
       "2  -5.99534  \n",
       "3  -5.99534  \n",
       "4  -5.99534  "
      ]
     },
     "execution_count": 26,
     "metadata": {},
     "output_type": "execute_result"
    }
   ],
   "source": [
    "# load dataset from meoteomatics\n",
    "df_data_meteomatics = pd.read_csv('./datos_meteorologicos_madrid_2020.csv')\n",
    "df_asturias = pd.read_csv('./data_Asturia.csv')\n",
    "df_cantabria = pd.read_csv('./data_Cantabria.csv')\n",
    "df_galicia = pd.read_csv('./data_galicia.csv')\n",
    "df_murcia = pd.read_csv('./data_murcia.csv')\n",
    "df_nava = pd.read_csv('./data_Navarra.csv')\n",
    "df_sevi = pd.read_csv('./data_Sevilla.csv')\n",
    "df_sevi.head()\n",
    "\n",
    "df_data_Sevilla = df.read_csv(\"data_Sevilla.csv\")\n",
    "df_data_Asturia = df.read_csv(\"data_Asturia.csv\")\n",
    "df_data_Cantabria = df.read_csv(\"data_Cantabria.csv\")\n",
    "df_data_Galicia = df.read_csv(\"data_galicia.csv\")\n",
    "df_data_Murcia = df.read_csv(\"data_murcia.csv\")\n",
    "df_data_Navarra = df.read_csv(\"data_Navarra.csv\")"
   ]
  },
  {
   "cell_type": "code",
   "execution_count": 27,
   "metadata": {},
   "outputs": [],
   "source": [
    "# function to split the column Fecha_Hora in two columns: Fecha and Hora\n",
    "def change_colum_datetime(df):\n",
    "    df['Fecha'] = df['Fecha_Hora'].str.split(' ').str[0]\n",
    "    df['Hora'] = df['Fecha_Hora'].str.split(' ').str[1]\n",
    "    df.drop(['Fecha_Hora'], axis=1, inplace=True)\n",
    "    return df\n",
    "\n",
    "# apply the function to the dataframes\n",
    "df_asturias = change_colum_datetime(df_asturias)\n",
    "df_cantabria = change_colum_datetime(df_cantabria)\n",
    "df_galicia = change_colum_datetime(df_galicia)\n",
    "df_murcia = change_colum_datetime(df_murcia)\n",
    "df_nava = change_colum_datetime(df_nava)\n",
    "df_sevi = change_colum_datetime(df_sevi)\n"
   ]
  },
  {
   "cell_type": "code",
   "execution_count": 32,
   "metadata": {},
   "outputs": [],
   "source": [
    "# function to change the column Hora to string and remove the last part of the string\n",
    "def change_time(df):\n",
    "    df['Hora'] = df['Hora'].astype(str)\n",
    "    df['Hora'] = df['Hora'].str.slice(0, 2)\n",
    "    return df\n",
    "\n",
    "\n",
    "# apply the function to the dataframes\n",
    "df_asturias = change_time(df_asturias)\n",
    "df_cantabria = change_time(df_cantabria)\n",
    "df_galicia = change_time(df_galicia)\n",
    "df_murcia = change_time(df_murcia)\n",
    "df_nava = change_time(df_nava)\n",
    "df_sevi = change_time(df_sevi)\n"
   ]
  },
  {
   "cell_type": "code",
   "execution_count": 39,
   "metadata": {},
   "outputs": [],
   "source": [
    "# function to change the column Hora to int\n",
    "df_asturias.to_csv('./data_Asturia.csv')\n",
    "df_cantabria.to_csv('./data_Cantabria.csv')\n",
    "df_galicia.to_csv('./data_galicia.csv')\n",
    "df_murcia.to_csv('./data_murcia.csv')\n",
    "df_nava.to_csv('./data_Navarra.csv')\n",
    "df_sevi.to_csv('./data_Sevilla.csv')\n"
   ]
  }
 ],
 "metadata": {
  "kernelspec": {
   "display_name": "hola",
   "language": "python",
   "name": "python3"
  },
  "language_info": {
   "codemirror_mode": {
    "name": "ipython",
    "version": 3
   },
   "file_extension": ".py",
   "mimetype": "text/x-python",
   "name": "python",
   "nbconvert_exporter": "python",
   "pygments_lexer": "ipython3",
   "version": "3.11.4"
  }
 },
 "nbformat": 4,
 "nbformat_minor": 2
}
